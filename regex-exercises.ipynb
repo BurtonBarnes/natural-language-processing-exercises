{
 "cells": [
  {
   "cell_type": "code",
   "execution_count": 5,
   "id": "f5eed7cf",
   "metadata": {},
   "outputs": [],
   "source": [
    "import re\n",
    "import pandas as pd"
   ]
  },
  {
   "cell_type": "code",
   "execution_count": 2,
   "id": "a239fd4a",
   "metadata": {},
   "outputs": [],
   "source": [
    "string = 'Two households, both alike in dignity, In fair Verona, where we lay our scene, From ancient grudge break to new mutiny, Where civil blood makes civil hands unclean.'"
   ]
  },
  {
   "cell_type": "code",
   "execution_count": 3,
   "id": "c2cfaef0",
   "metadata": {},
   "outputs": [
    {
     "data": {
      "text/plain": [
       "'Two households, both alike in dignity, In fair Verona, where we lay our scene, From ancient grudge break to new mutiny, Where civil blood makes civil hands unclean.'"
      ]
     },
     "execution_count": 3,
     "metadata": {},
     "output_type": "execute_result"
    }
   ],
   "source": [
    "string"
   ]
  },
  {
   "cell_type": "code",
   "execution_count": 6,
   "id": "a3b2f181",
   "metadata": {},
   "outputs": [
    {
     "data": {
      "text/plain": [
       "<re.Match object; span=(47, 53), match='Verona'>"
      ]
     },
     "execution_count": 6,
     "metadata": {},
     "output_type": "execute_result"
    }
   ],
   "source": [
    "re.search(r\"Verona\", string)"
   ]
  },
  {
   "cell_type": "code",
   "execution_count": 7,
   "id": "5e01cf8c",
   "metadata": {},
   "outputs": [
    {
     "data": {
      "text/plain": [
       "'Verona'"
      ]
     },
     "execution_count": 7,
     "metadata": {},
     "output_type": "execute_result"
    }
   ],
   "source": [
    "string[47:53]"
   ]
  },
  {
   "cell_type": "code",
   "execution_count": 9,
   "id": "cad6560a",
   "metadata": {},
   "outputs": [],
   "source": [
    "re.search(r\"Leonardo\", string)"
   ]
  },
  {
   "cell_type": "code",
   "execution_count": 10,
   "id": "14dd69a1",
   "metadata": {},
   "outputs": [
    {
     "data": {
      "text/plain": [
       "<re.Match object; span=(126, 131), match='civil'>"
      ]
     },
     "execution_count": 10,
     "metadata": {},
     "output_type": "execute_result"
    }
   ],
   "source": [
    "#only returns first instance of civil, not all of them\n",
    "re.search(r\"civil\", string)"
   ]
  },
  {
   "cell_type": "code",
   "execution_count": 11,
   "id": "79d954ab",
   "metadata": {},
   "outputs": [
    {
     "data": {
      "text/plain": [
       "['civil', 'civil']"
      ]
     },
     "execution_count": 11,
     "metadata": {},
     "output_type": "execute_result"
    }
   ],
   "source": [
    "re.findall(r\"civil\", string)"
   ]
  },
  {
   "cell_type": "code",
   "execution_count": 16,
   "id": "47595d77",
   "metadata": {},
   "outputs": [
    {
     "data": {
      "text/plain": [
       "<re.Match object; span=(47, 53), match='Verona'>"
      ]
     },
     "execution_count": 16,
     "metadata": {},
     "output_type": "execute_result"
    }
   ],
   "source": [
    "re.search(r\"verona\", string, re.IGNORECASE)"
   ]
  },
  {
   "cell_type": "code",
   "execution_count": 17,
   "id": "0ba19b05",
   "metadata": {},
   "outputs": [
    {
     "data": {
      "text/plain": [
       "['grey', 'gray', 'grey']"
      ]
     },
     "execution_count": 17,
     "metadata": {},
     "output_type": "execute_result"
    }
   ],
   "source": [
    "re.findall(r'gray|grey', \"I can't remember if you spell grey like gray or grey\")"
   ]
  },
  {
   "cell_type": "code",
   "execution_count": 18,
   "id": "f0f21793",
   "metadata": {},
   "outputs": [
    {
     "data": {
      "text/plain": [
       "<re.Match object; span=(12, 18), match='orange'>"
      ]
     },
     "execution_count": 18,
     "metadata": {},
     "output_type": "execute_result"
    }
   ],
   "source": [
    "re.search(r\"orange|apple\", \"I like both oranges and apples\")"
   ]
  },
  {
   "cell_type": "code",
   "execution_count": 19,
   "id": "88ee7000",
   "metadata": {},
   "outputs": [
    {
     "data": {
      "text/plain": [
       "<re.Match object; span=(1, 2), match='a'>"
      ]
     },
     "execution_count": 19,
     "metadata": {},
     "output_type": "execute_result"
    }
   ],
   "source": [
    "re.search(r'a|e|i|o|u', 'banana')"
   ]
  },
  {
   "cell_type": "code",
   "execution_count": 20,
   "id": "39d034e7",
   "metadata": {},
   "outputs": [
    {
     "data": {
      "text/plain": [
       "<re.Match object; span=(0, 10), match='bananarama'>"
      ]
     },
     "execution_count": 20,
     "metadata": {},
     "output_type": "execute_result"
    }
   ],
   "source": [
    "re.search(r'^b.*', \"bananarama\")"
   ]
  },
  {
   "cell_type": "code",
   "execution_count": 21,
   "id": "09869cff",
   "metadata": {},
   "outputs": [
    {
     "data": {
      "text/plain": [
       "<re.Match object; span=(1, 2), match='a'>"
      ]
     },
     "execution_count": 21,
     "metadata": {},
     "output_type": "execute_result"
    }
   ],
   "source": [
    "re.search(r'[^b.*]', \"bananarama\")"
   ]
  },
  {
   "cell_type": "code",
   "execution_count": 22,
   "id": "b1af48d8",
   "metadata": {},
   "outputs": [
    {
     "data": {
      "text/plain": [
       "<re.Match object; span=(0, 20), match='bananarama is my jam'>"
      ]
     },
     "execution_count": 22,
     "metadata": {},
     "output_type": "execute_result"
    }
   ],
   "source": [
    "re.search(r'^b.*', \"bananarama is my jam\")"
   ]
  },
  {
   "cell_type": "code",
   "execution_count": 30,
   "id": "7a217f49",
   "metadata": {},
   "outputs": [
    {
     "data": {
      "text/plain": [
       "<re.Match object; span=(0, 2), match='ba'>"
      ]
     },
     "execution_count": 30,
     "metadata": {},
     "output_type": "execute_result"
    }
   ],
   "source": [
    "re.search(r'^b.+', \"ba\")"
   ]
  },
  {
   "cell_type": "code",
   "execution_count": 32,
   "id": "239cb0fe",
   "metadata": {},
   "outputs": [
    {
     "data": {
      "text/plain": [
       "<re.Match object; span=(0, 13), match='banana pajama'>"
      ]
     },
     "execution_count": 32,
     "metadata": {},
     "output_type": "execute_result"
    }
   ],
   "source": [
    "re.search(r'^b.*', 'banana pajama')"
   ]
  },
  {
   "cell_type": "code",
   "execution_count": 35,
   "id": "7243099a",
   "metadata": {},
   "outputs": [
    {
     "data": {
      "text/plain": [
       "<re.Match object; span=(0, 6), match='banana'>"
      ]
     },
     "execution_count": 35,
     "metadata": {},
     "output_type": "execute_result"
    }
   ],
   "source": [
    "re.search(r'^b\\w+', 'banana pajama')"
   ]
  },
  {
   "cell_type": "code",
   "execution_count": 36,
   "id": "283a640c",
   "metadata": {},
   "outputs": [
    {
     "data": {
      "text/plain": [
       "<re.Match object; span=(0, 6), match='banana'>"
      ]
     },
     "execution_count": 36,
     "metadata": {},
     "output_type": "execute_result"
    }
   ],
   "source": [
    "re.search(r'^b\\w*\\b', 'banana pajama')"
   ]
  },
  {
   "cell_type": "code",
   "execution_count": 37,
   "id": "7ec1c957",
   "metadata": {},
   "outputs": [
    {
     "data": {
      "text/plain": [
       "<re.Match object; span=(0, 2), match='ba'>"
      ]
     },
     "execution_count": 37,
     "metadata": {},
     "output_type": "execute_result"
    }
   ],
   "source": [
    "re.search(r'^b.', 'banana pajama')"
   ]
  },
  {
   "cell_type": "code",
   "execution_count": 38,
   "id": "3e6de300",
   "metadata": {},
   "outputs": [
    {
     "data": {
      "text/plain": [
       "<re.Match object; span=(0, 5), match='banan'>"
      ]
     },
     "execution_count": 38,
     "metadata": {},
     "output_type": "execute_result"
    }
   ],
   "source": [
    "re.search(r'^b....', 'banana pajama')"
   ]
  },
  {
   "cell_type": "code",
   "execution_count": 39,
   "id": "32b32978",
   "metadata": {},
   "outputs": [
    {
     "data": {
      "text/plain": [
       "<re.Match object; span=(0, 4), match='bana'>"
      ]
     },
     "execution_count": 39,
     "metadata": {},
     "output_type": "execute_result"
    }
   ],
   "source": [
    "re.search(r'^b.{3}', 'banana pajama')"
   ]
  },
  {
   "cell_type": "code",
   "execution_count": 40,
   "id": "e0fd42f7",
   "metadata": {},
   "outputs": [
    {
     "data": {
      "text/plain": [
       "<re.Match object; span=(0, 4), match='bana'>"
      ]
     },
     "execution_count": 40,
     "metadata": {},
     "output_type": "execute_result"
    }
   ],
   "source": [
    "re.search(r'^b\\w{3}', 'banana pajama')"
   ]
  },
  {
   "cell_type": "code",
   "execution_count": 41,
   "id": "4aad9b4b",
   "metadata": {},
   "outputs": [
    {
     "data": {
      "text/plain": [
       "<re.Match object; span=(1, 2), match='a'>"
      ]
     },
     "execution_count": 41,
     "metadata": {},
     "output_type": "execute_result"
    }
   ],
   "source": [
    "re.search(r'[^b]', 'banana pajama')"
   ]
  },
  {
   "cell_type": "code",
   "execution_count": 43,
   "id": "080373ee",
   "metadata": {},
   "outputs": [
    {
     "data": {
      "text/plain": [
       "<re.Match object; span=(1, 13), match='anana pajama'>"
      ]
     },
     "execution_count": 43,
     "metadata": {},
     "output_type": "execute_result"
    }
   ],
   "source": [
    "re.search(r'[^b].*', 'banana pajama')"
   ]
  },
  {
   "cell_type": "code",
   "execution_count": 50,
   "id": "208c0d0a",
   "metadata": {},
   "outputs": [
    {
     "data": {
      "text/plain": [
       "<re.Match object; span=(0, 13), match='banana pajama'>"
      ]
     },
     "execution_count": 50,
     "metadata": {},
     "output_type": "execute_result"
    }
   ],
   "source": [
    "re.search(r'^b.+a$', 'banana pajama')"
   ]
  },
  {
   "cell_type": "code",
   "execution_count": 52,
   "id": "5d28d738",
   "metadata": {},
   "outputs": [
    {
     "data": {
      "text/plain": [
       "<re.Match object; span=(0, 4), match='abc1'>"
      ]
     },
     "execution_count": 52,
     "metadata": {},
     "output_type": "execute_result"
    }
   ],
   "source": [
    "re.search(r'\\w{4}', 'abc123')"
   ]
  },
  {
   "cell_type": "code",
   "execution_count": 53,
   "id": "98a3a2f6",
   "metadata": {},
   "outputs": [
    {
     "data": {
      "text/plain": [
       "<re.Match object; span=(0, 1), match='F'>"
      ]
     },
     "execution_count": 53,
     "metadata": {},
     "output_type": "execute_result"
    }
   ],
   "source": [
    "re.search(r'f|F+', 'Fred asked a good question')"
   ]
  },
  {
   "cell_type": "code",
   "execution_count": 54,
   "id": "28609795",
   "metadata": {},
   "outputs": [
    {
     "data": {
      "text/plain": [
       "<re.Match object; span=(0, 4), match='Fred'>"
      ]
     },
     "execution_count": 54,
     "metadata": {},
     "output_type": "execute_result"
    }
   ],
   "source": [
    "re.search(r'f|F\\w*', 'Fred asked a good question')"
   ]
  },
  {
   "cell_type": "code",
   "execution_count": 55,
   "id": "cadbfb5b",
   "metadata": {},
   "outputs": [
    {
     "data": {
      "text/plain": [
       "['stuff', 'a', 'nd', 'things', 'and']"
      ]
     },
     "execution_count": 55,
     "metadata": {},
     "output_type": "execute_result"
    }
   ],
   "source": [
    "re.findall(r'[a-zA-Z]+', '42 $stuff a$#@#@#$nd things and 123')"
   ]
  },
  {
   "cell_type": "code",
   "execution_count": 59,
   "id": "6db0492b",
   "metadata": {},
   "outputs": [
    {
     "data": {
      "text/plain": [
       "<re.Match object; span=(24, 28), match='Fred'>"
      ]
     },
     "execution_count": 59,
     "metadata": {},
     "output_type": "execute_result"
    }
   ],
   "source": [
    "re.search(r'F\\w+', 'F money asked a great q Fred')"
   ]
  },
  {
   "cell_type": "code",
   "execution_count": 60,
   "id": "cb9af4e5",
   "metadata": {},
   "outputs": [
    {
     "data": {
      "text/plain": [
       "<re.Match object; span=(0, 1), match='F'>"
      ]
     },
     "execution_count": 60,
     "metadata": {},
     "output_type": "execute_result"
    }
   ],
   "source": [
    "re.search(r'F\\w*', 'F money asked a great q Fred')"
   ]
  },
  {
   "cell_type": "code",
   "execution_count": 62,
   "id": "40ee1063",
   "metadata": {},
   "outputs": [
    {
     "data": {
      "text/plain": [
       "['Fred']"
      ]
     },
     "execution_count": 62,
     "metadata": {},
     "output_type": "execute_result"
    }
   ],
   "source": [
    "re.findall(r'F\\w+', 'F money asked a great q Fred')"
   ]
  },
  {
   "cell_type": "code",
   "execution_count": 63,
   "id": "8ca2cc05",
   "metadata": {},
   "outputs": [
    {
     "data": {
      "text/plain": [
       "<re.Match object; span=(0, 8), match='574-5860'>"
      ]
     },
     "execution_count": 63,
     "metadata": {},
     "output_type": "execute_result"
    }
   ],
   "source": [
    "re.search(r'\\d{3}.\\d{4}', '574-5860')"
   ]
  },
  {
   "cell_type": "code",
   "execution_count": 64,
   "id": "9769df3b",
   "metadata": {},
   "outputs": [
    {
     "data": {
      "text/plain": [
       "<re.Match object; span=(0, 7), match='5745860'>"
      ]
     },
     "execution_count": 64,
     "metadata": {},
     "output_type": "execute_result"
    }
   ],
   "source": [
    "re.search(r'\\d{3}.?\\d{4}', '5745860')"
   ]
  },
  {
   "cell_type": "code",
   "execution_count": 65,
   "id": "df136481",
   "metadata": {},
   "outputs": [
    {
     "data": {
      "text/plain": [
       "['555', '555', '555']"
      ]
     },
     "execution_count": 65,
     "metadata": {},
     "output_type": "execute_result"
    }
   ],
   "source": [
    "'555-555-555'.split('-')"
   ]
  },
  {
   "cell_type": "code",
   "execution_count": 66,
   "id": "a50ae105",
   "metadata": {},
   "outputs": [
    {
     "data": {
      "text/plain": [
       "['455', '45', '55']"
      ]
     },
     "execution_count": 66,
     "metadata": {},
     "output_type": "execute_result"
    }
   ],
   "source": [
    "re.split(r'-', '455-45-55')"
   ]
  },
  {
   "cell_type": "code",
   "execution_count": 67,
   "id": "0f8939f3",
   "metadata": {},
   "outputs": [
    {
     "data": {
      "text/plain": [
       "['455', '45', '55']"
      ]
     },
     "execution_count": 67,
     "metadata": {},
     "output_type": "execute_result"
    }
   ],
   "source": [
    "re.split(r'-| ', '455-45-55')"
   ]
  },
  {
   "cell_type": "code",
   "execution_count": 68,
   "id": "d5809f22",
   "metadata": {},
   "outputs": [
    {
     "data": {
      "text/plain": [
       "<re.Match object; span=(1, 2), match='a'>"
      ]
     },
     "execution_count": 68,
     "metadata": {},
     "output_type": "execute_result"
    }
   ],
   "source": [
    "re.search(r'[aeiou]', 'banana')"
   ]
  },
  {
   "cell_type": "code",
   "execution_count": 69,
   "id": "da68352c",
   "metadata": {},
   "outputs": [
    {
     "data": {
      "text/plain": [
       "['grey', 'gray']"
      ]
     },
     "execution_count": 69,
     "metadata": {},
     "output_type": "execute_result"
    }
   ],
   "source": [
    "re.findall(r'gr[ae]y', 'some spell it grey or gray')"
   ]
  },
  {
   "cell_type": "code",
   "execution_count": 73,
   "id": "54a12726",
   "metadata": {},
   "outputs": [
    {
     "data": {
      "text/plain": [
       "<re.Match object; span=(0, 1), match='a'>"
      ]
     },
     "execution_count": 73,
     "metadata": {},
     "output_type": "execute_result"
    }
   ],
   "source": [
    "re.search(r'[aeiou]{1}', 'a')"
   ]
  },
  {
   "cell_type": "code",
   "execution_count": 76,
   "id": "b6124a94",
   "metadata": {},
   "outputs": [
    {
     "data": {
      "text/plain": [
       "<re.Match object; span=(2, 4), match='ee'>"
      ]
     },
     "execution_count": 76,
     "metadata": {},
     "output_type": "execute_result"
    }
   ],
   "source": [
    "re.search(r'[aeiou]*$', 'are')"
   ]
  },
  {
   "cell_type": "code",
   "execution_count": 86,
   "id": "1dbf635f",
   "metadata": {},
   "outputs": [],
   "source": [
    "#1.\n",
    "def is_vowel(string):\n",
    "    vowel = re.findall(r'a|e|i|o|u', string)\n",
    "    return vowel"
   ]
  },
  {
   "cell_type": "code",
   "execution_count": null,
   "id": "165752ec",
   "metadata": {},
   "outputs": [],
   "source": [
    "#2.\n",
    "def is_valid_username($username, $maxlength=32):\n",
    "    if:\n",
    "    \n",
    "        return True\n",
    "    else:\n",
    "        return False"
   ]
  },
  {
   "cell_type": "code",
   "execution_count": 96,
   "id": "69b1c6eb",
   "metadata": {},
   "outputs": [
    {
     "data": {
      "text/plain": [
       "<re.Match object; span=(0, 6), match='Codeup'>"
      ]
     },
     "execution_count": 96,
     "metadata": {},
     "output_type": "execute_result"
    }
   ],
   "source": [
    "re.search(r'\\w{1,32}', 'Codeup')"
   ]
  },
  {
   "cell_type": "code",
   "execution_count": 97,
   "id": "0eba53fe",
   "metadata": {},
   "outputs": [
    {
     "ename": "SyntaxError",
     "evalue": "invalid syntax (748245529.py, line 1)",
     "output_type": "error",
     "traceback": [
      "\u001b[0;36m  Input \u001b[0;32mIn [97]\u001b[0;36m\u001b[0m\n\u001b[0;31m    def is_valid_username($username, $minlength = 3, $maxlength = 30)\u001b[0m\n\u001b[0m                          ^\u001b[0m\n\u001b[0;31mSyntaxError\u001b[0m\u001b[0;31m:\u001b[0m invalid syntax\n"
     ]
    }
   ],
   "source": [
    "def is_valid_username($username, $minlength = 3, $maxlength = 30)\n",
    "{\n",
    "    $regex = \"/^[a-z0-9_\\-]{{$minlength},{$maxlength}}$/\";\n",
    "\n",
    "    return preg_match($regex, trim($username)) === 1;\n",
    "}"
   ]
  },
  {
   "cell_type": "code",
   "execution_count": 107,
   "id": "c46e35c6",
   "metadata": {},
   "outputs": [
    {
     "data": {
      "text/plain": [
       "<re.Match object; span=(4, 12), match='867-5309'>"
      ]
     },
     "execution_count": 107,
     "metadata": {},
     "output_type": "execute_result"
    }
   ],
   "source": [
    "#3.\n",
    "re.search(r'\\d{3}.\\d{4}', '210-867-5309')"
   ]
  },
  {
   "cell_type": "code",
   "execution_count": 108,
   "id": "409c48ca",
   "metadata": {},
   "outputs": [
    {
     "data": {
      "text/plain": [
       "<re.Match object; span=(0, 8), match='02/04/19'>"
      ]
     },
     "execution_count": 108,
     "metadata": {},
     "output_type": "execute_result"
    }
   ],
   "source": [
    "#4.\n",
    "re.split(r'/', '02/04/19')\n",
    "re.search(r'\\d{2}.\\d{2}.\\d{2}', '02/04/19')"
   ]
  },
  {
   "cell_type": "code",
   "execution_count": 109,
   "id": "e668c51f",
   "metadata": {},
   "outputs": [
    {
     "data": {
      "text/plain": [
       "['02', '04', '19']"
      ]
     },
     "execution_count": 109,
     "metadata": {},
     "output_type": "execute_result"
    }
   ],
   "source": [
    "re.split(r'/', '02/04/19')"
   ]
  },
  {
   "cell_type": "code",
   "execution_count": 113,
   "id": "18580904",
   "metadata": {},
   "outputs": [
    {
     "data": {
      "text/plain": [
       "'/190402/'"
      ]
     },
     "execution_count": 113,
     "metadata": {},
     "output_type": "execute_result"
    }
   ],
   "source": [
    "s = \"02/04/19\"\n",
    "r = re.compile('(^.*)(04)(.*$)')\n",
    "r.sub(r'\\3\\2\\1',s)"
   ]
  },
  {
   "cell_type": "code",
   "execution_count": 115,
   "id": "3807d44c",
   "metadata": {},
   "outputs": [],
   "source": [
    "#5.\n",
    "a = 'GET /api/v1/sales?page=86 [16/Apr/2019:193452+0000] HTTP/1.1 {200} 510348 \"python-requests/2.21.0\" 97.105.19.58'\n",
    "b = 'POST /users_accounts/file-upload [16/Apr/2019:193452+0000] HTTP/1.1 {201} 42 \"User-Agent: Mozilla/5.0 (X11; Fedora; Fedora; Linux x86_64) AppleWebKit/537.36 (KHTML, like Gecko) Chrome/73.0.3683.86 Safari/537.36\" 97.105.19.58'\n",
    "c = 'GET /api/v1/items?page=3 [16/Apr/2019:193453+0000] HTTP/1.1 {429} 3561 \"python-requests/2.21.0\" 97.105.19.58'"
   ]
  },
  {
   "cell_type": "code",
   "execution_count": 120,
   "id": "5f584488",
   "metadata": {},
   "outputs": [
    {
     "data": {
      "text/plain": [
       "['GET',\n",
       " '/api/v1/sales?page=86',\n",
       " '[16/Apr/2019:193452+0000]',\n",
       " 'HTTP/1.1',\n",
       " '{200}',\n",
       " '510348',\n",
       " '\"python-requests/2.21.0\"',\n",
       " '97.105.19.58']"
      ]
     },
     "execution_count": 120,
     "metadata": {},
     "output_type": "execute_result"
    }
   ],
   "source": [
    "re.split(r' ', a)"
   ]
  },
  {
   "cell_type": "code",
   "execution_count": 121,
   "id": "de0f11db",
   "metadata": {},
   "outputs": [
    {
     "data": {
      "text/plain": [
       "['POST',\n",
       " '/users_accounts/file-upload',\n",
       " '[16/Apr/2019:193452+0000]',\n",
       " 'HTTP/1.1',\n",
       " '{201}',\n",
       " '42',\n",
       " '\"User-Agent:',\n",
       " 'Mozilla/5.0',\n",
       " '(X11;',\n",
       " 'Fedora;',\n",
       " 'Fedora;',\n",
       " 'Linux',\n",
       " 'x86_64)',\n",
       " 'AppleWebKit/537.36',\n",
       " '(KHTML,',\n",
       " 'like',\n",
       " 'Gecko)',\n",
       " 'Chrome/73.0.3683.86',\n",
       " 'Safari/537.36\"',\n",
       " '97.105.19.58']"
      ]
     },
     "execution_count": 121,
     "metadata": {},
     "output_type": "execute_result"
    }
   ],
   "source": [
    "re.split(r' ', b)"
   ]
  },
  {
   "cell_type": "code",
   "execution_count": 122,
   "id": "e681def4",
   "metadata": {},
   "outputs": [
    {
     "data": {
      "text/plain": [
       "['GET',\n",
       " '/api/v1/items?page=3',\n",
       " '[16/Apr/2019:193453+0000]',\n",
       " 'HTTP/1.1',\n",
       " '{429}',\n",
       " '3561',\n",
       " '\"python-requests/2.21.0\"',\n",
       " '97.105.19.58']"
      ]
     },
     "execution_count": 122,
     "metadata": {},
     "output_type": "execute_result"
    }
   ],
   "source": [
    "re.split(r' ', c)"
   ]
  },
  {
   "cell_type": "code",
   "execution_count": null,
   "id": "e9989c1e",
   "metadata": {},
   "outputs": [],
   "source": []
  }
 ],
 "metadata": {
  "kernelspec": {
   "display_name": "Python 3 (ipykernel)",
   "language": "python",
   "name": "python3"
  },
  "language_info": {
   "codemirror_mode": {
    "name": "ipython",
    "version": 3
   },
   "file_extension": ".py",
   "mimetype": "text/x-python",
   "name": "python",
   "nbconvert_exporter": "python",
   "pygments_lexer": "ipython3",
   "version": "3.9.12"
  }
 },
 "nbformat": 4,
 "nbformat_minor": 5
}
