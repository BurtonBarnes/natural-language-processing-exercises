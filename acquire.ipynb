{
 "cells": [
  {
   "cell_type": "code",
   "execution_count": 15,
   "id": "48303de4",
   "metadata": {},
   "outputs": [],
   "source": [
    "from requests import get\n",
    "from bs4 import BeautifulSoup\n",
    "import os\n",
    "import requests"
   ]
  },
  {
   "cell_type": "code",
   "execution_count": 10,
   "id": "2805f26b",
   "metadata": {},
   "outputs": [],
   "source": [
    "url = 'https://codeup.com/data-science/math-in-data-science/'\n",
    "headers = {'User-Agent': 'Codeup Data Science'} # Some websites don't accept the pyhon-requests default user-agent"
   ]
  },
  {
   "cell_type": "code",
   "execution_count": 11,
   "id": "5518e16c",
   "metadata": {},
   "outputs": [
    {
     "name": "stdout",
     "output_type": "stream",
     "text": [
      "<!doctype html>\n",
      "<html>\n",
      "<head>\n",
      "    <title>Example Domain</title>\n",
      "\n",
      "    <meta charset=\"utf-8\" />\n",
      "    <meta http-equiv=\"Content-type\" content=\"text/html; charset=utf-8\" />\n",
      "    <meta name=\"viewport\" content=\"width=device-width, initial-scale=1\" />\n",
      "    <style type=\"text/css\">\n",
      "    body {\n",
      "        background-color: #f0f0f2;\n",
      "        margin: 0;\n",
      "        padding: 0;\n",
      "        font-family: -apple-system, system-u\n"
     ]
    }
   ],
   "source": [
    "print(response.text[:400])"
   ]
  },
  {
   "cell_type": "code",
   "execution_count": 12,
   "id": "a5566343",
   "metadata": {},
   "outputs": [],
   "source": [
    "# Make a soup variable holding the response content\n",
    "soup = BeautifulSoup(response.content, 'html.parser')"
   ]
  },
  {
   "cell_type": "code",
   "execution_count": 2,
   "id": "cbc1efbb",
   "metadata": {},
   "outputs": [
    {
     "data": {
      "text/plain": [
       "<Response [200]>"
      ]
     },
     "execution_count": 2,
     "metadata": {},
     "output_type": "execute_result"
    }
   ],
   "source": [
    "url= 'https://www.example.com/'\n",
    "\n",
    "response = requests.get(url)\n",
    "response"
   ]
  },
  {
   "cell_type": "code",
   "execution_count": 3,
   "id": "34b32c6b",
   "metadata": {},
   "outputs": [
    {
     "data": {
      "text/plain": [
       "'<!doctype html>\\n<html>\\n<head>\\n    <title>Example Domain</title>\\n\\n    <meta charset=\"utf-8\" />\\n    <meta http-equiv=\"Content-type\" content=\"text/html; charset=utf-8\" />\\n    <meta name=\"viewport\" content=\"width=device-width, initial-scale=1\" />\\n    <style type=\"text/css\">\\n    body {\\n        background-color: #f0f0f2;\\n        margin: 0;\\n        padding: 0;\\n        font-family: -apple-system, system-ui, BlinkMacSystemFont, \"Segoe UI\", \"Open Sans\", \"Helvetica Neue\", Helvetica, Arial, sans-serif;\\n        \\n    }\\n    div {\\n        width: 600px;\\n        margin: 5em auto;\\n        padding: 2em;\\n        background-color: #fdfdff;\\n        border-radius: 0.5em;\\n        box-shadow: 2px 3px 7px 2px rgba(0,0,0,0.02);\\n    }\\n    a:link, a:visited {\\n        color: #38488f;\\n        text-decoration: none;\\n    }\\n    @media (max-width: 700px) {\\n        div {\\n            margin: 0 auto;\\n            width: auto;\\n        }\\n    }\\n    </style>    \\n</head>\\n\\n<body>\\n<div>\\n    <h1>Example Domain</h1>\\n    <p>This domain is for use in illustrative examples in documents. You may use this\\n    domain in literature without prior coordination or asking for permission.</p>\\n    <p><a href=\"https://www.iana.org/domains/example\">More information...</a></p>\\n</div>\\n</body>\\n</html>\\n'"
      ]
     },
     "execution_count": 3,
     "metadata": {},
     "output_type": "execute_result"
    }
   ],
   "source": [
    "response.text"
   ]
  },
  {
   "cell_type": "code",
   "execution_count": 5,
   "id": "2657d5ba",
   "metadata": {},
   "outputs": [
    {
     "data": {
      "text/plain": [
       "<!DOCTYPE html>\n",
       "\n",
       "<html>\n",
       "<head>\n",
       "<title>Example Domain</title>\n",
       "<meta charset=\"utf-8\"/>\n",
       "<meta content=\"text/html; charset=utf-8\" http-equiv=\"Content-type\"/>\n",
       "<meta content=\"width=device-width, initial-scale=1\" name=\"viewport\"/>\n",
       "<style type=\"text/css\">\n",
       "    body {\n",
       "        background-color: #f0f0f2;\n",
       "        margin: 0;\n",
       "        padding: 0;\n",
       "        font-family: -apple-system, system-ui, BlinkMacSystemFont, \"Segoe UI\", \"Open Sans\", \"Helvetica Neue\", Helvetica, Arial, sans-serif;\n",
       "        \n",
       "    }\n",
       "    div {\n",
       "        width: 600px;\n",
       "        margin: 5em auto;\n",
       "        padding: 2em;\n",
       "        background-color: #fdfdff;\n",
       "        border-radius: 0.5em;\n",
       "        box-shadow: 2px 3px 7px 2px rgba(0,0,0,0.02);\n",
       "    }\n",
       "    a:link, a:visited {\n",
       "        color: #38488f;\n",
       "        text-decoration: none;\n",
       "    }\n",
       "    @media (max-width: 700px) {\n",
       "        div {\n",
       "            margin: 0 auto;\n",
       "            width: auto;\n",
       "        }\n",
       "    }\n",
       "    </style>\n",
       "</head>\n",
       "<body>\n",
       "<div>\n",
       "<h1>Example Domain</h1>\n",
       "<p>This domain is for use in illustrative examples in documents. You may use this\n",
       "    domain in literature without prior coordination or asking for permission.</p>\n",
       "<p><a href=\"https://www.iana.org/domains/example\">More information...</a></p>\n",
       "</div>\n",
       "</body>\n",
       "</html>"
      ]
     },
     "execution_count": 5,
     "metadata": {},
     "output_type": "execute_result"
    }
   ],
   "source": [
    "soup = BeautifulSoup(response.content, 'html.parser')\n",
    "soup"
   ]
  },
  {
   "cell_type": "code",
   "execution_count": 6,
   "id": "2e74083e",
   "metadata": {},
   "outputs": [
    {
     "data": {
      "text/plain": [
       "<a href=\"https://www.iana.org/domains/example\">More information...</a>"
      ]
     },
     "execution_count": 6,
     "metadata": {},
     "output_type": "execute_result"
    }
   ],
   "source": [
    "soup.find('a')"
   ]
  },
  {
   "cell_type": "code",
   "execution_count": null,
   "id": "c8026d48",
   "metadata": {},
   "outputs": [],
   "source": [
    "#1.\n",
    "# five html\n",
    "https://codeup.com/data-science/become-a-data-scientist/\n",
    "https://codeup.com/employers/hiring-tech-talent/\n",
    "https://codeup.com/cloud-administration/cap-funding-options/\n",
    "https://codeup.com/dallas-info/it-professionals-dallas/\n",
    "https://codeup.com/codeup-news/codeup-voted-1-technical-school-in-dfw/"
   ]
  },
  {
   "cell_type": "code",
   "execution_count": 36,
   "id": "00dc37b7",
   "metadata": {},
   "outputs": [],
   "source": [
    "def get_blog_article(string):\n",
    "    # go fetch the data\n",
    "    url = string\n",
    "    headers = {'User-Agent': 'Codeup Data Science'}\n",
    "    response = get(url, headers=headers)\n",
    "    soup = BeautifulSoup(response.text)\n",
    "    article = soup.find('div', id='main-content')\n",
    "    title = soup.title.string\n",
    "    \n",
    "    # save it for next time\n",
    "    with open('article.txt', 'w') as f:\n",
    "        f.write(article.text)\n",
    "\n",
    "    return title.text, article.text"
   ]
  },
  {
   "cell_type": "code",
   "execution_count": 37,
   "id": "c2a0121f",
   "metadata": {},
   "outputs": [
    {
     "data": {
      "text/plain": [
       "('Become a Data Scientist in 6 Months! - Codeup',\n",
       " '\\n\\n\\n\\n\\n\\nBecome a Data Scientist in 6 Months!\\nJan 5, 2023 | Data Science\\n\\n\\nAre you feeling unfulfilled in your work but want to avoid returning to the traditional educational route? Codeup can help! Starting over as a professional is daunting and not always ideal. Codeup can help you go from a career you are bored with, to a job that excites you in just 6 months!\\nHere’s how…\\nData Science Program\\nDuring our 20-week program, you will have the opportunity to take your career to new heights with data science being one of the most needed jobs in tech.\\nYou’ll gather data, then clean it, explore it for trends, and apply machine learning models to make predictions.\\nUpon completing this program, you will know how to turn insights into actionable recommendations. You’ll be a huge asset to any company, having all the technical skills to become a data scientist with projects upon projects of experience under your belt.\\nCodeup\\nA common reason individuals opt not to change their careers is fear it is too late. Codeup has crafted a program that will guide you through your career transition and prove that you can jumpstart a new job at any age and experience level.\\nWhen you decide to attend Codeup, you get a support system. First, our admissions team will guide you through getting started as well as assist with getting your financial aid squared away.\\nOnce your program begins, you will have industry experts as your instructors who will help you reach your full potential and complete the program successfully.\\nNext, you will have a student experience team ready to assist you with navigating through the program and any of life’s obstacles that may arise.\\nFinally, you have a placement team to help you secure the job you’ll work so hard to land!\\n\\nIf you do not land a job within six months of completing a Codeup program, we will refund 100% of your paid tuition.\\nIf you aren’t sure if a career in data science is right for you, consider attending our 100% free instructor-led workshops. These workshops are designed to give you a taste of what you’ll learn in our programs, as well as give you information on financial aid and admissions.\\nWe can also provide program-specific information to your inbox at any time! Get started now or give us a call at (210) 802-7289 and we’ll walk you through the process.\\nJumpstart your tech career with the first and only accredited bootcamp in Texas!*\\n*Codeup is accredited for postsecondary, non-degree granting, career and technology programs by the Middle States Commission on Secondary Schools of the Middle States Association of Colleges and Schools, 3624 Market Street, Philadelphia, PA 19104, (267) 284-5000\\n\\n\\n\\n\\n\\n\\n\\n\\nOur ProgramsCloud Administration\\nFull Stack Web Development\\nData Science\\n\\n\\n\\n\\n\\nLatest Blog Articles\\nBecome a Data Scientist in 6 Months!\\nHiring Tech Talent Around the Holidays\\nCloud Administration Program New Funding Options\\nWhy Dallas is a Great Location for IT Professionals\\nCodeup is ranked #1 Best in DFW 2022\\n\\n\\n\\n\\n\\n\\n\\n\\n\\n\\n\\n\\n\\n\\n\\n\\n\\n \\n\\n\\n')"
      ]
     },
     "execution_count": 37,
     "metadata": {},
     "output_type": "execute_result"
    }
   ],
   "source": [
    "get_blog_article('https://codeup.com/data-science/become-a-data-scientist/')"
   ]
  },
  {
   "cell_type": "code",
   "execution_count": 56,
   "id": "515bfdf9",
   "metadata": {},
   "outputs": [],
   "source": [
    "#2.\n",
    "def get_article_categories(string):\n",
    "    # go fetch the data\n",
    "    url = string\n",
    "    headers = {'User-Agent': 'Codeup Data Science'}\n",
    "    response = get(url, headers=headers)\n",
    "    soup = BeautifulSoup(response.text)\n",
    "    article = soup.find('div', id='main-content')\n",
    "    title = soup.title.string\n",
    "    \n",
    "    # save it for next time\n",
    "    with open('article.txt', 'w') as f:\n",
    "        f.write(article.text)\n",
    "\n",
    "    return title.text, article.text"
   ]
  },
  {
   "cell_type": "code",
   "execution_count": 38,
   "id": "97729adc",
   "metadata": {},
   "outputs": [],
   "source": [
    "url = 'https://inshorts.com/en/news/why-is-uttarakhands-joshimath-sinking-1673027315117'"
   ]
  },
  {
   "cell_type": "code",
   "execution_count": 41,
   "id": "c1396389",
   "metadata": {},
   "outputs": [
    {
     "ename": "FeatureNotFound",
     "evalue": "Couldn't find a tree builder with the features you requested: html.inshorts. Do you need to install a parser library?",
     "output_type": "error",
     "traceback": [
      "\u001b[0;31m---------------------------------------------------------------------------\u001b[0m",
      "\u001b[0;31mFeatureNotFound\u001b[0m                           Traceback (most recent call last)",
      "Input \u001b[0;32mIn [41]\u001b[0m, in \u001b[0;36m<cell line: 1>\u001b[0;34m()\u001b[0m\n\u001b[0;32m----> 1\u001b[0m soup \u001b[38;5;241m=\u001b[39m \u001b[43mBeautifulSoup\u001b[49m\u001b[43m(\u001b[49m\u001b[43mresponse\u001b[49m\u001b[38;5;241;43m.\u001b[39;49m\u001b[43mcontent\u001b[49m\u001b[43m,\u001b[49m\u001b[43m \u001b[49m\u001b[38;5;124;43m'\u001b[39;49m\u001b[38;5;124;43mhtml.inshorts\u001b[39;49m\u001b[38;5;124;43m'\u001b[39;49m\u001b[43m)\u001b[49m\n\u001b[1;32m      2\u001b[0m soup\n",
      "File \u001b[0;32m/usr/local/anaconda3/lib/python3.9/site-packages/bs4/__init__.py:248\u001b[0m, in \u001b[0;36mBeautifulSoup.__init__\u001b[0;34m(self, markup, features, builder, parse_only, from_encoding, exclude_encodings, element_classes, **kwargs)\u001b[0m\n\u001b[1;32m    246\u001b[0m     builder_class \u001b[38;5;241m=\u001b[39m builder_registry\u001b[38;5;241m.\u001b[39mlookup(\u001b[38;5;241m*\u001b[39mfeatures)\n\u001b[1;32m    247\u001b[0m     \u001b[38;5;28;01mif\u001b[39;00m builder_class \u001b[38;5;129;01mis\u001b[39;00m \u001b[38;5;28;01mNone\u001b[39;00m:\n\u001b[0;32m--> 248\u001b[0m         \u001b[38;5;28;01mraise\u001b[39;00m FeatureNotFound(\n\u001b[1;32m    249\u001b[0m             \u001b[38;5;124m\"\u001b[39m\u001b[38;5;124mCouldn\u001b[39m\u001b[38;5;124m'\u001b[39m\u001b[38;5;124mt find a tree builder with the features you \u001b[39m\u001b[38;5;124m\"\u001b[39m\n\u001b[1;32m    250\u001b[0m             \u001b[38;5;124m\"\u001b[39m\u001b[38;5;124mrequested: \u001b[39m\u001b[38;5;132;01m%s\u001b[39;00m\u001b[38;5;124m. Do you need to install a parser library?\u001b[39m\u001b[38;5;124m\"\u001b[39m\n\u001b[1;32m    251\u001b[0m             \u001b[38;5;241m%\u001b[39m \u001b[38;5;124m\"\u001b[39m\u001b[38;5;124m,\u001b[39m\u001b[38;5;124m\"\u001b[39m\u001b[38;5;241m.\u001b[39mjoin(features))\n\u001b[1;32m    253\u001b[0m \u001b[38;5;66;03m# At this point either we have a TreeBuilder instance in\u001b[39;00m\n\u001b[1;32m    254\u001b[0m \u001b[38;5;66;03m# builder, or we have a builder_class that we can instantiate\u001b[39;00m\n\u001b[1;32m    255\u001b[0m \u001b[38;5;66;03m# with the remaining **kwargs.\u001b[39;00m\n\u001b[1;32m    256\u001b[0m \u001b[38;5;28;01mif\u001b[39;00m builder \u001b[38;5;129;01mis\u001b[39;00m \u001b[38;5;28;01mNone\u001b[39;00m:\n",
      "\u001b[0;31mFeatureNotFound\u001b[0m: Couldn't find a tree builder with the features you requested: html.inshorts. Do you need to install a parser library?"
     ]
    }
   ],
   "source": [
    "soup = BeautifulSoup(response.content, 'html.inshorts')\n",
    "soup"
   ]
  },
  {
   "cell_type": "code",
   "execution_count": 42,
   "id": "5081abd8",
   "metadata": {},
   "outputs": [
    {
     "data": {
      "text/plain": [
       "'https://inshorts.com/'"
      ]
     },
     "execution_count": 42,
     "metadata": {},
     "output_type": "execute_result"
    }
   ],
   "source": [
    "response = 'https://inshorts.com/'\n",
    "response"
   ]
  },
  {
   "cell_type": "code",
   "execution_count": 45,
   "id": "3ded1955",
   "metadata": {},
   "outputs": [
    {
     "data": {
      "text/plain": [
       "<Response [200]>"
      ]
     },
     "execution_count": 45,
     "metadata": {},
     "output_type": "execute_result"
    }
   ],
   "source": [
    "url = 'https://inshorts.com/'\n",
    "\n",
    "response = requests.get(url)\n",
    "response"
   ]
  },
  {
   "cell_type": "code",
   "execution_count": 46,
   "id": "82b83fea",
   "metadata": {},
   "outputs": [
    {
     "data": {
      "text/plain": [
       "'<!doctype html>\\n<html lang=\"utf-8\">\\n<head>\\n  <title>Short English & Hindi News|Latest News, India News, Current Affairs|Inshorts</title>\\n\\n    <meta name=\\'viewport\\' content=\\'width=device-width\\'/>\\n    <link rel=\"stylesheet\" href=\"https://cdnjs.cloudflare.com/ajax/libs/materialize/0.97.6/css/materialize.min.css\">\\n    <link rel=\"stylesheet\" href=\"/assets/public/main_styles.1fbfcc060c5da7ec3f2a.css\">\\n    <link rel=\"shortcut icon\" href=\"dist/images/favicon.png\" type=\"image/x-icon\" />\\n\\n  <meta name=\"description\" content=\"Read latest news with inshorts in less than 60 words, related to business, sports, bollywood and technology in India and around the world in both english & hindi.\">\\n  <meta name=\"twitter:card\" content=\"summary_large_image\"/>\\n  <meta name=\"twitter:site\" content=\"@inshorts\"/>\\n  <meta name=\"twitter:creator\" content=\"@inshorts\"/>\\n  <meta name=\"twitter:title\" content=\"Short English & Hindi News|Latest News, India News, Current Affairs|Inshorts\"/>\\n  <meta name=\"twitter:description\" content=\"Read latest news with inshorts in less than 60 words, related to business, sports, bollywood and technology in India and around the world in both english & hindi.\"/>\\n  <meta name=\"twitter:image\" content=\"https://inshorts.com/assets/images/favicon.png\"/>\\n\\n  <head prefix=\"og: http://ogp.me/ns# fb: http://ogp.me/ns/fb# news-in-shorts: http://ogp.me/ns/fb/news-in-shorts#\">\\n  <meta property=\"fb:app_id\" content=\"168662373317120\" /> \\n  <meta property=\"og:site_name\" content=\"Inshorts - Stay Informed\"/>\\n  <meta property=\"og:type\" content=\"news-in-shorts:short\">\\n  <meta property=\"og:url\" content=\"https://inshorts.com\" /> \\n  <meta property=\"og:title\" content=\"Short English & Hindi News|Latest News, India News, Current Affairs|Inshorts\"/>\\n  <meta property=\"og:image\" content=\"https://inshorts.com/assets/images/favicon.png\" /> \\n  <meta property=\"og:description\" content=\"Read latest news with inshorts in less than 60 words, related to business, sports, bollywood and technology in India and around the world in both english & hindi.\" />\\n  <meta property=\"og:updated_time\" content=\"1673040445950\" />\\n  <meta property=\"og:rich_attachment\" content=\"true\" />\\n  <meta property=\"al:web:should_fallback\" content=\"true\" />\\n\\n  <meta property=\"al:ios:url\" content=\"nis://\" />\\n  <meta property=\"al:ios:app_store_id\" content=\"892146527\" />\\n  <meta property=\"al:ios:app_name\" content=\"Inshorts - Stay Informed\" />\\n\\n  <meta property=\"al:iphone:url\" content=\"nis://\" />\\n  <meta property=\"al:iphone:app_store_id\" content=\"892146527\" />\\n  <meta property=\"al:iphone:app_name\" content=\"Inshorts - Stay Informed\" />\\n\\n  <meta property=\"al:ipad:url\" content=\"nis://\" />\\n  <meta property=\"al:ipad:app_store_id\" content=\"892146527\" />\\n  <meta property=\"al:ipad:app_name\" content=\"Inshorts - Stay Informed\" />\\n\\n  <meta property=\"al:android:url\" content=\"nis://\" />\\n  <meta property=\"al:android:package\" content=\"com.nis.app\" />\\n  <meta property=\"al:android:app_name\" content=\"Inshorts - Stay Informed\" />\\n  <link rel=\"manifest\" href=\"/assets/public/scripts/desktop_manifest.json\">\\n</head>\\n  <body data-country=\"IN\" class=\"android_false ios_false country_IN phone_false tablet_false seven_inch_\">\\n    <div class=\"parent_container\">\\n      <div id=\"main\" class=\"main_container\">\\n        <div class=\"wrapper\"><div class=\"header\"><div class=\"logo\"></div><div class=\"action_links blog\"><a href=\"https://blog.inshorts.com/\" target=\"_blank\">Blog</a></div><div class=\"action_links read_now\"><a href=\"/en/read\" target=\"_blank\">Read Now</a></div></div><div class=\"main_content_container\"><div class=\"left_container\"><div class=\"image_container\"></div></div><div class=\"right_container\"><h1>Stay informed in 60 words.</h1><h2>We understand you don’t have time to go through long news articles everyday. So we cut the clutter and deliver them, in 60-word shorts. Short news for the mobile generation.</h2><h3><div class=\"us_content\"><div class=\"heading\">3 Billion shorts served, coming soon to the US.</div><div class=\"content\">Join our beta program to know as soon as we launch.</div><div class=\"disclaimer\">Looking for Indian version?<span class=\"underline\">Click here</span></div></div><div class=\"india_content\"><a target=\"_blank\" href=\"https://itunes.apple.com/us/app/news-in-shorts/id892146527\"><div class=\"ios_container\"></div></a><a target=\"_blank\" href=\"https://play.google.com/store/apps/details?id=com.nis.app&amp;referrer=utm_source=inshorts%20mobile\"><div class=\"android_container\"></div></a></div></h3></div></div><div class=\"featured_in\"><div class=\"heading\">Awards</div><div class=\"seperator_bottom\"></div><div class=\"featured_band\"><div class=\"award\"></div></div></div><ul id=\"vertical_carousel\" class=\"vertical_carousel\"><li data-scrollax-parent=\"true\" class=\"vertical_carousel_screen layer screen1\"><div class=\"left_container\"><div data-scrollax=\"properties: { \\'translateY\\': \\'100%\\', \\'opacity\\': 2 }\" class=\"heading\">Your Personal App,<br/> Your Personalised Shorts.</div><div data-scrollax=\"properties: { \\'translateY\\': \\'100%\\', \\'opacity\\': 2 }\" class=\"content\">Our AI engine intuitively understands what you like reading, and delivers more of that in a single feed. In your ‘My Feed’, everything you read, is everything you need.</div></div><div class=\"right_container\"><div data-scrollax=\"properties: { \\'translateY\\': \\'50%\\', \\'opacity\\': 2 }\" class=\"image_container screen1\"></div><div class=\"state_container screen1\"><div class=\"state1 screen1\"></div><div class=\"state2 screen1\"></div><div class=\"state3 screen1\"></div></div></div></li><li data-scrollax-parent=\"true\" class=\"vertical_carousel_screen layer screen2\"><div class=\"left_container\"><div data-scrollax=\"properties: { \\'translateY\\': \\'100%\\', \\'opacity\\': 2 }\" class=\"heading\">Explore an array of news categories, all in one place.</div><div data-scrollax=\"properties: { \\'translateY\\': \\'100%\\', \\'opacity\\': 2 }\" class=\"content\">Browse through the section of your choice and discover trending news topics. Share your opinion on stories instantly by submitting your response on our poll.</div></div><div class=\"right_container\"><div data-scrollax=\"properties: { \\'translateY\\': \\'50%\\', \\'opacity\\': 2 }\" class=\"image_container screen2\"></div><div class=\"state_container screen2\"><div class=\"state1 screen2\"></div><div class=\"state2 screen2\"></div><div class=\"state3 screen2\"></div></div></div></li><li data-scrollax-parent=\"true\" class=\"vertical_carousel_screen layer screen3\"><div class=\"left_container\"><div data-scrollax=\"properties: { \\'translateY\\': \\'100%\\', \\'opacity\\': 2 }\" class=\"heading\">Your favourite sources in one app. In short.</div><div data-scrollax=\"properties: { \\'translateY\\': \\'100%\\', \\'opacity\\': 2 }\" class=\"content\">We pick-up articles from all your favourite sources and present them in 60-word shorts. Read full articles for shorts that interest you, within the app.</div></div><div class=\"right_container\"><div data-scrollax=\"properties: { \\'translateY\\': \\'50%\\', \\'opacity\\': 2 }\" class=\"image_container screen3\"></div><div class=\"state_container screen3\"><div class=\"state1 screen3\"></div><div class=\"state2 screen3\"></div><div class=\"state3 screen3\"></div></div></div></li></ul><div><div class=\"featured_in\"><div class=\"heading\">As Featured In</div><div class=\"seperator_bottom\"></div><div class=\"featured_band\"><div class=\"sprite feature tech_crunch\"></div><div class=\"sprite feature bussiness_insider\"></div><div class=\"sprite feature forbes\"></div><div class=\"sprite feature fortune\"></div><div class=\"sprite feature economic_times\"></div></div></div><div class=\"appreciation_band_container\"><div class=\"heading\">Best in the Business</div><div class=\"seperator_bottom\"></div><div class=\"appreciation_band horizontal_scrollable\"><div class=\"appreciaion_block items\"><div class=\"sprite img_container users\"></div><div class=\"heading\">Loved by users</div><div class=\"content\">With a rating of 4.6, we’re the highest-rated news app on the Playstore</div></div><div class=\"appreciaion_block items\"><div class=\"sprite img_container stores\"></div><div class=\"heading\">Loved by app stores</div><div class=\"content\">We’ve been in Apple’s Featured Apps showcase and Google’s list of the Best Apps of 2015</div></div><div class=\"appreciaion_block items\"><div class=\"sprite img_container publishers\"></div><div class=\"heading\">Loved by publishers</div><div class=\"content\">With more than 30 content partners globally, publishers love being on Inshorts</div></div></div></div></div><div class=\"enter_email_container main_content_container\"><div class=\"india_content\"><h3 class=\"label\">Download the easiest way to stay informed</h3><div><a target=\"_blank\" href=\"https://itunes.apple.com/us/app/news-in-shorts/id892146527\"><div class=\"ios_container\"></div></a><a target=\"_blank\" href=\"https://play.google.com/store/apps/details?id=com.nis.app&amp;referrer=utm_source=inshorts%20mobile\"><div class=\"android_container\"></div></a></div></div><div class=\"us_content\"><div class=\"label\">3 Billion shorts served, coming soon to the US.</div></div></div><div class=\"footer\"><div class=\"left_container\"><a href=\"/tnc\" target=\"_blank\">Terms &amp; Conditions</a><a href=\"/privacy\" target=\"_blank\">Privacy Policy</a><a href=\"/notification_to_vendors\" target=\"_blank\">Notification to Vendors</a><div class=\"logo\"></div><div class=\"disclaimer\"><div>Inshorts Pte. Ltd</div><div>© COPYRIGHT 2023</div></div></div><div class=\"right_container\"><a href=\"https://facebook.com/inshortsapp\" target=\"_blank\">Facebook</a><a href=\"https://twitter.com/inshorts\" target=\"_blank\">Twitter</a><a class=\"contact_us_action\">Email</a></div></div></div>\\n      </div>\\n    </div>\\n    \\n      <script type=\"text/javascript\" src=\"/assets/public/libraries.13aa35b8014972195188.bundle.js\"></script>\\n      <script type=\"text/javascript\" src=\"/assets/public/app.6d5bd2bffd6c57a669b5.bundle.js\"></script>\\n      <script type=\"text/javascript\" src=\"/assets/public/main.1641cf41a1a1e76db4d3.bundle.js\"></script>\\n    \\n    <script>\\n      (function(i,s,o,g,r,a,m){i[\\'GoogleAnalyticsObject\\']=r;i[r]=i[r]||function(){\\n      (i[r].q=i[r].q||[]).push(arguments)},i[r].l=1*new Date();a=s.createElement(o),\\n      m=s.getElementsByTagName(o)[0];a.async=1;a.src=g;m.parentNode.insertBefore(a,m)\\n      })(window,document,\\'script\\',\\'https://www.google-analytics.com/analytics.js\\',\\'ga\\');\\n\\n      ga(\\'create\\', \\'UA-55157535-6\\', \\'auto\\');\\n      ga(\\'send\\', \\'pageview\\');\\n\\n    </script>\\n    <!-- Facebook Pixel Code -->\\n    <script>\\n      !function(f,b,e,v,n,t,s)\\n      {if(f.fbq)return;n=f.fbq=function(){n.callMethod?\\n      n.callMethod.apply(n,arguments):n.queue.push(arguments)};\\n      if(!f._fbq)f._fbq=n;n.push=n;n.loaded=!0;n.version=\\'2.0\\';\\n      n.queue=[];t=b.createElement(e);t.async=!0;\\n      t.src=v;s=b.getElementsByTagName(e)[0];\\n      s.parentNode.insertBefore(t,s)}(window, document,\\'script\\',\\n      \\'https://connect.facebook.net/en_US/fbevents.js\\');\\n      fbq(\\'init\\', \\'822966517773327\\');\\n      fbq(\\'track\\', \\'PageView\\');\\n    </script>\\n    <noscript><img height=\"1\" width=\"1\" style=\"display:none\"\\n      src=\"https://www.facebook.com/tr?id=822966517773327&ev=PageView&noscript=1\"\\n    /></noscript>\\n    <!-- End Facebook Pixel Code -->\\n    <!-- Mix panel script start -->\\n<script>\\n  (function(f,b){if(!b.__SV){var e,g,i,h;window.mixpanel=b;b._i=[];b.init=function(e,f,c){function g(a,d){var b=d.split(\".\");2==b.length&&(a=a[b[0]],d=b[1]);a[d]=function(){a.push([d].concat(Array.prototype.slice.call(arguments,0)))}}var a=b;\"undefined\"!==typeof c?a=b[c]=[]:c=\"mixpanel\";a.people=a.people||[];a.toString=function(a){var d=\"mixpanel\";\"mixpanel\"!==c&&(d+=\".\"+c);a||(d+=\" (stub)\");return d};a.people.toString=function(){return a.toString(1)+\".people (stub)\"};i=\"disable time_event track track_pageview track_links track_forms track_with_groups add_group set_group remove_group register register_once alias unregister identify name_tag set_config reset opt_in_tracking opt_out_tracking has_opted_in_tracking has_opted_out_tracking clear_opt_in_out_tracking start_batch_senders people.set people.set_once people.unset people.increment people.append people.union people.track_charge people.clear_charges people.delete_user people.remove\".split(\" \");\\n  for(h=0;h<i.length;h++)g(a,i[h]);var j=\"set set_once union unset remove delete\".split(\" \");a.get_group=function(){function b(c){d[c]=function(){call2_args=arguments;call2=[c].concat(Array.prototype.slice.call(call2_args,0));a.push([e,call2])}}for(var d={},e=[\"get_group\"].concat(Array.prototype.slice.call(arguments,0)),c=0;c<j.length;c++)b(j[c]);return d};b._i.push([e,f,c])};b.__SV=1.2;e=f.createElement(\"script\");e.type=\"text/javascript\";e.async=!0;e.src=\"undefined\"!==typeof MIXPANEL_CUSTOM_LIB_URL?\\n  MIXPANEL_CUSTOM_LIB_URL:\"file:\"===f.location.protocol&&\"//cdn.mxpnl.com/libs/mixpanel-2-latest.min.js\".match(/^\\\\/\\\\//)?\"https://cdn.mxpnl.com/libs/mixpanel-2-latest.min.js\":\"//cdn.mxpnl.com/libs/mixpanel-2-latest.min.js\";g=f.getElementsByTagName(\"script\")[0];g.parentNode.insertBefore(e,g)}})(document,window.mixpanel||[]);\\n  mixpanel.init(\"a99a1037068944b00a0cc8ee56c94e8c\")\\n  mixpanel.track(\"pageview\")\\n  </script>\\n<!-- Mix panel script end -->\\n    <!-- Begin comScore Tag -->\\n    <script>\\n      var _comscore = _comscore || [];\\n      _comscore.push({ c1: \"2\", c2: \"28268321\" });\\n      (function() {\\n        var s = document.createElement(\"script\"), el = document.getElementsByTagName(\"script\")[0]; s.async = true;\\n        s.src = (document.location.protocol == \"https:\" ? \"https://sb\" : \"http://b\") + \".scorecardresearch.com/beacon.js\";\\n        el.parentNode.insertBefore(s, el);\\n      })();\\n    </script>\\n    <noscript>\\n      <img src=\"https://sb.scorecardresearch.com/p?c1=2&c2=28268321&cv=2.0&cj=1\" />\\n    </noscript>\\n    <!-- End comScore Tag -->\\n  </body>\\n<html>\\n\\n\\n  <!--  Scripts-->\\n\\n   \\n\\n'"
      ]
     },
     "execution_count": 46,
     "metadata": {},
     "output_type": "execute_result"
    }
   ],
   "source": [
    "response.text"
   ]
  },
  {
   "cell_type": "code",
   "execution_count": 49,
   "id": "d8acb3c8",
   "metadata": {},
   "outputs": [
    {
     "data": {
      "text/plain": [
       "b'<!doctype html>\\n<html lang=\"utf-8\">\\n<head>\\n  <title>Short English & Hindi News|Latest News, India News, Current Affairs|Inshorts</title>\\n\\n    <meta name=\\'viewport\\' content=\\'width=device-width\\'/>\\n    <link rel=\"stylesheet\" href=\"https://cdnjs.cloudflare.com/ajax/libs/materialize/0.97.6/css/materialize.min.css\">\\n    <link rel=\"stylesheet\" href=\"/assets/public/main_styles.1fbfcc060c5da7ec3f2a.css\">\\n    <link rel=\"shortcut icon\" href=\"dist/images/favicon.png\" type=\"image/x-icon\" />\\n\\n  <meta name=\"description\" content=\"Read latest news with inshorts in less than 60 words, related to business, sports, bollywood and technology in India and around the world in both english & hindi.\">\\n  <meta name=\"twitter:card\" content=\"summary_large_image\"/>\\n  <meta name=\"twitter:site\" content=\"@inshorts\"/>\\n  <meta name=\"twitter:creator\" content=\"@inshorts\"/>\\n  <meta name=\"twitter:title\" content=\"Short English & Hindi News|Latest News, India News, Current Affairs|Inshorts\"/>\\n  <meta name=\"twitter:description\" content=\"Read latest news with inshorts in less than 60 words, related to business, sports, bollywood and technology in India and around the world in both english & hindi.\"/>\\n  <meta name=\"twitter:image\" content=\"https://inshorts.com/assets/images/favicon.png\"/>\\n\\n  <head prefix=\"og: http://ogp.me/ns# fb: http://ogp.me/ns/fb# news-in-shorts: http://ogp.me/ns/fb/news-in-shorts#\">\\n  <meta property=\"fb:app_id\" content=\"168662373317120\" /> \\n  <meta property=\"og:site_name\" content=\"Inshorts - Stay Informed\"/>\\n  <meta property=\"og:type\" content=\"news-in-shorts:short\">\\n  <meta property=\"og:url\" content=\"https://inshorts.com\" /> \\n  <meta property=\"og:title\" content=\"Short English & Hindi News|Latest News, India News, Current Affairs|Inshorts\"/>\\n  <meta property=\"og:image\" content=\"https://inshorts.com/assets/images/favicon.png\" /> \\n  <meta property=\"og:description\" content=\"Read latest news with inshorts in less than 60 words, related to business, sports, bollywood and technology in India and around the world in both english & hindi.\" />\\n  <meta property=\"og:updated_time\" content=\"1673040445950\" />\\n  <meta property=\"og:rich_attachment\" content=\"true\" />\\n  <meta property=\"al:web:should_fallback\" content=\"true\" />\\n\\n  <meta property=\"al:ios:url\" content=\"nis://\" />\\n  <meta property=\"al:ios:app_store_id\" content=\"892146527\" />\\n  <meta property=\"al:ios:app_name\" content=\"Inshorts - Stay Informed\" />\\n\\n  <meta property=\"al:iphone:url\" content=\"nis://\" />\\n  <meta property=\"al:iphone:app_store_id\" content=\"892146527\" />\\n  <meta property=\"al:iphone:app_name\" content=\"Inshorts - Stay Informed\" />\\n\\n  <meta property=\"al:ipad:url\" content=\"nis://\" />\\n  <meta property=\"al:ipad:app_store_id\" content=\"892146527\" />\\n  <meta property=\"al:ipad:app_name\" content=\"Inshorts - Stay Informed\" />\\n\\n  <meta property=\"al:android:url\" content=\"nis://\" />\\n  <meta property=\"al:android:package\" content=\"com.nis.app\" />\\n  <meta property=\"al:android:app_name\" content=\"Inshorts - Stay Informed\" />\\n  <link rel=\"manifest\" href=\"/assets/public/scripts/desktop_manifest.json\">\\n</head>\\n  <body data-country=\"IN\" class=\"android_false ios_false country_IN phone_false tablet_false seven_inch_\">\\n    <div class=\"parent_container\">\\n      <div id=\"main\" class=\"main_container\">\\n        <div class=\"wrapper\"><div class=\"header\"><div class=\"logo\"></div><div class=\"action_links blog\"><a href=\"https://blog.inshorts.com/\" target=\"_blank\">Blog</a></div><div class=\"action_links read_now\"><a href=\"/en/read\" target=\"_blank\">Read Now</a></div></div><div class=\"main_content_container\"><div class=\"left_container\"><div class=\"image_container\"></div></div><div class=\"right_container\"><h1>Stay informed in 60 words.</h1><h2>We understand you don\\xe2\\x80\\x99t have time to go through long news articles everyday. So we cut the clutter and deliver them, in 60-word shorts. Short news for the mobile generation.</h2><h3><div class=\"us_content\"><div class=\"heading\">3 Billion shorts served, coming soon to the US.</div><div class=\"content\">Join our beta program to know as soon as we launch.</div><div class=\"disclaimer\">Looking for Indian version?<span class=\"underline\">Click here</span></div></div><div class=\"india_content\"><a target=\"_blank\" href=\"https://itunes.apple.com/us/app/news-in-shorts/id892146527\"><div class=\"ios_container\"></div></a><a target=\"_blank\" href=\"https://play.google.com/store/apps/details?id=com.nis.app&amp;referrer=utm_source=inshorts%20mobile\"><div class=\"android_container\"></div></a></div></h3></div></div><div class=\"featured_in\"><div class=\"heading\">Awards</div><div class=\"seperator_bottom\"></div><div class=\"featured_band\"><div class=\"award\"></div></div></div><ul id=\"vertical_carousel\" class=\"vertical_carousel\"><li data-scrollax-parent=\"true\" class=\"vertical_carousel_screen layer screen1\"><div class=\"left_container\"><div data-scrollax=\"properties: { \\'translateY\\': \\'100%\\', \\'opacity\\': 2 }\" class=\"heading\">Your Personal App,<br/> Your Personalised Shorts.</div><div data-scrollax=\"properties: { \\'translateY\\': \\'100%\\', \\'opacity\\': 2 }\" class=\"content\">Our AI engine intuitively understands what you like reading, and delivers more of that in a single feed. In your \\xe2\\x80\\x98My Feed\\xe2\\x80\\x99, everything you read, is everything you need.</div></div><div class=\"right_container\"><div data-scrollax=\"properties: { \\'translateY\\': \\'50%\\', \\'opacity\\': 2 }\" class=\"image_container screen1\"></div><div class=\"state_container screen1\"><div class=\"state1 screen1\"></div><div class=\"state2 screen1\"></div><div class=\"state3 screen1\"></div></div></div></li><li data-scrollax-parent=\"true\" class=\"vertical_carousel_screen layer screen2\"><div class=\"left_container\"><div data-scrollax=\"properties: { \\'translateY\\': \\'100%\\', \\'opacity\\': 2 }\" class=\"heading\">Explore an array of news categories, all in one place.</div><div data-scrollax=\"properties: { \\'translateY\\': \\'100%\\', \\'opacity\\': 2 }\" class=\"content\">Browse through the section of your choice and discover trending news topics. Share your opinion on stories instantly by submitting your response on our poll.</div></div><div class=\"right_container\"><div data-scrollax=\"properties: { \\'translateY\\': \\'50%\\', \\'opacity\\': 2 }\" class=\"image_container screen2\"></div><div class=\"state_container screen2\"><div class=\"state1 screen2\"></div><div class=\"state2 screen2\"></div><div class=\"state3 screen2\"></div></div></div></li><li data-scrollax-parent=\"true\" class=\"vertical_carousel_screen layer screen3\"><div class=\"left_container\"><div data-scrollax=\"properties: { \\'translateY\\': \\'100%\\', \\'opacity\\': 2 }\" class=\"heading\">Your favourite sources in one app. In short.</div><div data-scrollax=\"properties: { \\'translateY\\': \\'100%\\', \\'opacity\\': 2 }\" class=\"content\">We pick-up articles from all your favourite sources and present them in 60-word shorts. Read full articles for shorts that interest you, within the app.</div></div><div class=\"right_container\"><div data-scrollax=\"properties: { \\'translateY\\': \\'50%\\', \\'opacity\\': 2 }\" class=\"image_container screen3\"></div><div class=\"state_container screen3\"><div class=\"state1 screen3\"></div><div class=\"state2 screen3\"></div><div class=\"state3 screen3\"></div></div></div></li></ul><div><div class=\"featured_in\"><div class=\"heading\">As Featured In</div><div class=\"seperator_bottom\"></div><div class=\"featured_band\"><div class=\"sprite feature tech_crunch\"></div><div class=\"sprite feature bussiness_insider\"></div><div class=\"sprite feature forbes\"></div><div class=\"sprite feature fortune\"></div><div class=\"sprite feature economic_times\"></div></div></div><div class=\"appreciation_band_container\"><div class=\"heading\">Best in the Business</div><div class=\"seperator_bottom\"></div><div class=\"appreciation_band horizontal_scrollable\"><div class=\"appreciaion_block items\"><div class=\"sprite img_container users\"></div><div class=\"heading\">Loved by users</div><div class=\"content\">With a rating of 4.6, we\\xe2\\x80\\x99re the highest-rated news app on the Playstore</div></div><div class=\"appreciaion_block items\"><div class=\"sprite img_container stores\"></div><div class=\"heading\">Loved by app stores</div><div class=\"content\">We\\xe2\\x80\\x99ve been in Apple\\xe2\\x80\\x99s Featured Apps showcase and Google\\xe2\\x80\\x99s list of the Best Apps of 2015</div></div><div class=\"appreciaion_block items\"><div class=\"sprite img_container publishers\"></div><div class=\"heading\">Loved by publishers</div><div class=\"content\">With more than 30 content partners globally, publishers love being on Inshorts</div></div></div></div></div><div class=\"enter_email_container main_content_container\"><div class=\"india_content\"><h3 class=\"label\">Download the easiest way to stay informed</h3><div><a target=\"_blank\" href=\"https://itunes.apple.com/us/app/news-in-shorts/id892146527\"><div class=\"ios_container\"></div></a><a target=\"_blank\" href=\"https://play.google.com/store/apps/details?id=com.nis.app&amp;referrer=utm_source=inshorts%20mobile\"><div class=\"android_container\"></div></a></div></div><div class=\"us_content\"><div class=\"label\">3 Billion shorts served, coming soon to the US.</div></div></div><div class=\"footer\"><div class=\"left_container\"><a href=\"/tnc\" target=\"_blank\">Terms &amp; Conditions</a><a href=\"/privacy\" target=\"_blank\">Privacy Policy</a><a href=\"/notification_to_vendors\" target=\"_blank\">Notification to Vendors</a><div class=\"logo\"></div><div class=\"disclaimer\"><div>Inshorts Pte. Ltd</div><div>\\xc2\\xa9 COPYRIGHT 2023</div></div></div><div class=\"right_container\"><a href=\"https://facebook.com/inshortsapp\" target=\"_blank\">Facebook</a><a href=\"https://twitter.com/inshorts\" target=\"_blank\">Twitter</a><a class=\"contact_us_action\">Email</a></div></div></div>\\n      </div>\\n    </div>\\n    \\n      <script type=\"text/javascript\" src=\"/assets/public/libraries.13aa35b8014972195188.bundle.js\"></script>\\n      <script type=\"text/javascript\" src=\"/assets/public/app.6d5bd2bffd6c57a669b5.bundle.js\"></script>\\n      <script type=\"text/javascript\" src=\"/assets/public/main.1641cf41a1a1e76db4d3.bundle.js\"></script>\\n    \\n    <script>\\n      (function(i,s,o,g,r,a,m){i[\\'GoogleAnalyticsObject\\']=r;i[r]=i[r]||function(){\\n      (i[r].q=i[r].q||[]).push(arguments)},i[r].l=1*new Date();a=s.createElement(o),\\n      m=s.getElementsByTagName(o)[0];a.async=1;a.src=g;m.parentNode.insertBefore(a,m)\\n      })(window,document,\\'script\\',\\'https://www.google-analytics.com/analytics.js\\',\\'ga\\');\\n\\n      ga(\\'create\\', \\'UA-55157535-6\\', \\'auto\\');\\n      ga(\\'send\\', \\'pageview\\');\\n\\n    </script>\\n    <!-- Facebook Pixel Code -->\\n    <script>\\n      !function(f,b,e,v,n,t,s)\\n      {if(f.fbq)return;n=f.fbq=function(){n.callMethod?\\n      n.callMethod.apply(n,arguments):n.queue.push(arguments)};\\n      if(!f._fbq)f._fbq=n;n.push=n;n.loaded=!0;n.version=\\'2.0\\';\\n      n.queue=[];t=b.createElement(e);t.async=!0;\\n      t.src=v;s=b.getElementsByTagName(e)[0];\\n      s.parentNode.insertBefore(t,s)}(window, document,\\'script\\',\\n      \\'https://connect.facebook.net/en_US/fbevents.js\\');\\n      fbq(\\'init\\', \\'822966517773327\\');\\n      fbq(\\'track\\', \\'PageView\\');\\n    </script>\\n    <noscript><img height=\"1\" width=\"1\" style=\"display:none\"\\n      src=\"https://www.facebook.com/tr?id=822966517773327&ev=PageView&noscript=1\"\\n    /></noscript>\\n    <!-- End Facebook Pixel Code -->\\n    <!-- Mix panel script start -->\\n<script>\\n  (function(f,b){if(!b.__SV){var e,g,i,h;window.mixpanel=b;b._i=[];b.init=function(e,f,c){function g(a,d){var b=d.split(\".\");2==b.length&&(a=a[b[0]],d=b[1]);a[d]=function(){a.push([d].concat(Array.prototype.slice.call(arguments,0)))}}var a=b;\"undefined\"!==typeof c?a=b[c]=[]:c=\"mixpanel\";a.people=a.people||[];a.toString=function(a){var d=\"mixpanel\";\"mixpanel\"!==c&&(d+=\".\"+c);a||(d+=\" (stub)\");return d};a.people.toString=function(){return a.toString(1)+\".people (stub)\"};i=\"disable time_event track track_pageview track_links track_forms track_with_groups add_group set_group remove_group register register_once alias unregister identify name_tag set_config reset opt_in_tracking opt_out_tracking has_opted_in_tracking has_opted_out_tracking clear_opt_in_out_tracking start_batch_senders people.set people.set_once people.unset people.increment people.append people.union people.track_charge people.clear_charges people.delete_user people.remove\".split(\" \");\\n  for(h=0;h<i.length;h++)g(a,i[h]);var j=\"set set_once union unset remove delete\".split(\" \");a.get_group=function(){function b(c){d[c]=function(){call2_args=arguments;call2=[c].concat(Array.prototype.slice.call(call2_args,0));a.push([e,call2])}}for(var d={},e=[\"get_group\"].concat(Array.prototype.slice.call(arguments,0)),c=0;c<j.length;c++)b(j[c]);return d};b._i.push([e,f,c])};b.__SV=1.2;e=f.createElement(\"script\");e.type=\"text/javascript\";e.async=!0;e.src=\"undefined\"!==typeof MIXPANEL_CUSTOM_LIB_URL?\\n  MIXPANEL_CUSTOM_LIB_URL:\"file:\"===f.location.protocol&&\"//cdn.mxpnl.com/libs/mixpanel-2-latest.min.js\".match(/^\\\\/\\\\//)?\"https://cdn.mxpnl.com/libs/mixpanel-2-latest.min.js\":\"//cdn.mxpnl.com/libs/mixpanel-2-latest.min.js\";g=f.getElementsByTagName(\"script\")[0];g.parentNode.insertBefore(e,g)}})(document,window.mixpanel||[]);\\n  mixpanel.init(\"a99a1037068944b00a0cc8ee56c94e8c\")\\n  mixpanel.track(\"pageview\")\\n  </script>\\n<!-- Mix panel script end -->\\n    <!-- Begin comScore Tag -->\\n    <script>\\n      var _comscore = _comscore || [];\\n      _comscore.push({ c1: \"2\", c2: \"28268321\" });\\n      (function() {\\n        var s = document.createElement(\"script\"), el = document.getElementsByTagName(\"script\")[0]; s.async = true;\\n        s.src = (document.location.protocol == \"https:\" ? \"https://sb\" : \"http://b\") + \".scorecardresearch.com/beacon.js\";\\n        el.parentNode.insertBefore(s, el);\\n      })();\\n    </script>\\n    <noscript>\\n      <img src=\"https://sb.scorecardresearch.com/p?c1=2&c2=28268321&cv=2.0&cj=1\" />\\n    </noscript>\\n    <!-- End comScore Tag -->\\n  </body>\\n<html>\\n\\n\\n  <!--  Scripts-->\\n\\n   \\n\\n'"
      ]
     },
     "execution_count": 49,
     "metadata": {},
     "output_type": "execute_result"
    }
   ],
   "source": [
    "response.content"
   ]
  },
  {
   "cell_type": "code",
   "execution_count": null,
   "id": "3bee24a6",
   "metadata": {},
   "outputs": [],
   "source": []
  }
 ],
 "metadata": {
  "kernelspec": {
   "display_name": "Python 3 (ipykernel)",
   "language": "python",
   "name": "python3"
  },
  "language_info": {
   "codemirror_mode": {
    "name": "ipython",
    "version": 3
   },
   "file_extension": ".py",
   "mimetype": "text/x-python",
   "name": "python",
   "nbconvert_exporter": "python",
   "pygments_lexer": "ipython3",
   "version": "3.9.12"
  }
 },
 "nbformat": 4,
 "nbformat_minor": 5
}
